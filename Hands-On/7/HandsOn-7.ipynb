{
 "metadata": {
  "name": ""
 },
 "nbformat": 3,
 "nbformat_minor": 0,
 "worksheets": [
  {
   "cells": [
    {
     "cell_type": "code",
     "collapsed": false,
     "input": [
      "%matplotlib inline\n",
      "import numpy as np\n",
      "import matplotlib.pyplot as plt\n",
      "import matplotlib as mpl\n",
      "from scipy.optimize import curve_fit"
     ],
     "language": "python",
     "metadata": {},
     "outputs": [],
     "prompt_number": 29
    },
    {
     "cell_type": "code",
     "collapsed": false,
     "input": [
      "disCamp=np.transpose(np.array([[2.3 , 2.8 , 3.2 , 3.7 , 4.3],[34745,19689,12594,7982,5822]]))\n",
      "def Dipolo(z,mu):\n",
      "    return 2*mu*(10**(-1))*(1/(z**3))\n",
      "par,cov=curve_fit(Dipolo,disCamp[:,0],disCamp[:,1])\n",
      "sep=np.linspace(2.3,4.3,100)\n",
      "bsep=Dipolo(sep,*par)"
     ],
     "language": "python",
     "metadata": {},
     "outputs": [],
     "prompt_number": 30
    },
    {
     "cell_type": "code",
     "collapsed": false,
     "input": [
      "print(\"| x/cm  |  B/uT    |\")\n",
      "for i in range(100):\n",
      "    print (\"{:.2f}\".format(sep[i])).rjust(1),\"|\",(\"{:.2f}\".format(bsep[i])).rjust(1)"
     ],
     "language": "python",
     "metadata": {},
     "outputs": [
      {
       "output_type": "stream",
       "stream": "stdout",
       "text": [
        "| x/cm  |  B/uT    |\n",
        "2.30 | 34820.33\n",
        "2.32 | 33918.69\n",
        "2.34 | 33047.90\n",
        "2.36 | 32206.67\n",
        "2.38 | 31393.76\n",
        "2.40 | 30607.97\n",
        "2.42 | 29848.18\n",
        "2.44 | 29113.34\n",
        "2.46 | 28402.43\n",
        "2.48 | 27714.47\n",
        "2.50 | 27048.55\n",
        "2.52 | 26403.80\n",
        "2.54 | 25779.37\n",
        "2.56 | 25174.49\n",
        "2.58 | 24588.38\n",
        "2.60 | 24020.32\n",
        "2.62 | 23469.63\n",
        "2.64 | 22935.64\n",
        "2.66 | 22417.73\n",
        "2.68 | 21915.30\n",
        "2.70 | 21427.77\n",
        "2.72 | 20954.59\n",
        "2.74 | 20495.24\n",
        "2.76 | 20049.23\n",
        "2.78 | 19616.06\n",
        "2.81 | 19195.28\n",
        "2.83 | 18786.45\n",
        "2.85 | 18389.14\n",
        "2.87 | 18002.96\n",
        "2.89 | 17627.52\n",
        "2.91 | 17262.45\n",
        "2.93 | 16907.39\n",
        "2.95 | 16562.00\n",
        "2.97 | 16225.95\n",
        "2.99 | 15898.94\n",
        "3.01 | 15580.65\n",
        "3.03 | 15270.80\n",
        "3.05 | 14969.11\n",
        "3.07 | 14675.32\n",
        "3.09 | 14389.17\n",
        "3.11 | 14110.41\n",
        "3.13 | 13838.80\n",
        "3.15 | 13574.12\n",
        "3.17 | 13316.14\n",
        "3.19 | 13064.66\n",
        "3.21 | 12819.48\n",
        "3.23 | 12580.39\n",
        "3.25 | 12347.21\n",
        "3.27 | 12119.76\n",
        "3.29 | 11897.86\n",
        "3.31 | 11681.34\n",
        "3.33 | 11470.05\n",
        "3.35 | 11263.82\n",
        "3.37 | 11062.50\n",
        "3.39 | 10865.96\n",
        "3.41 | 10674.04\n",
        "3.43 | 10486.62\n",
        "3.45 | 10303.55\n",
        "3.47 | 10124.73\n",
        "3.49 | 9950.02\n",
        "3.51 | 9779.30\n",
        "3.53 | 9612.47\n",
        "3.55 | 9449.41\n",
        "3.57 | 9290.02\n",
        "3.59 | 9134.20\n",
        "3.61 | 8981.84\n",
        "3.63 | 8832.85\n",
        "3.65 | 8687.13\n",
        "3.67 | 8544.61\n",
        "3.69 | 8405.18\n",
        "3.71 | 8268.77\n",
        "3.73 | 8135.30\n",
        "3.75 | 8004.69\n",
        "3.77 | 7876.85\n",
        "3.79 | 7751.73\n",
        "3.82 | 7629.24\n",
        "3.84 | 7509.31\n",
        "3.86 | 7391.89\n",
        "3.88 | 7276.90\n",
        "3.90 | 7164.29\n",
        "3.92 | 7053.99\n",
        "3.94 | 6945.94\n",
        "3.96 | 6840.08\n",
        "3.98 | 6736.37\n",
        "4.00 | 6634.74\n",
        "4.02 | 6535.15\n",
        "4.04 | 6437.53\n",
        "4.06 | 6341.86\n",
        "4.08 | 6248.07\n",
        "4.10 | 6156.12\n",
        "4.12 | 6065.96\n",
        "4.14 | 5977.56\n",
        "4.16 | 5890.87\n",
        "4.18 | 5805.85\n",
        "4.20 | 5722.45\n",
        "4.22 | 5640.64\n",
        "4.24 | 5560.39\n",
        "4.26 | 5481.65\n",
        "4.28 | 5404.39\n",
        "4.30 | 5328.57\n"
       ]
      }
     ],
     "prompt_number": 31
    },
    {
     "cell_type": "code",
     "collapsed": false,
     "input": [
      "print \"Dipolo magn\u00e9tico en uAm^2\", par*10**(-5)\n",
      "plt.plot(sep,Dipolo(sep,*par))\n",
      "plt.scatter(disCamp[:,0],disCamp[:,1])\n",
      "plt.xlabel(\"Distancia \\n [cm]\")\n",
      "plt.ylabel(\"Campo \\n [uT]\")"
     ],
     "language": "python",
     "metadata": {},
     "outputs": [
      {
       "output_type": "stream",
       "stream": "stdout",
       "text": [
        "Dipolo magn\u00e9tico en uAm^2 [ 21.18294965]\n"
       ]
      },
      {
       "metadata": {},
       "output_type": "pyout",
       "prompt_number": 40,
       "text": [
        "<matplotlib.text.Text at 0x7f19c1a96c50>"
       ]
      },
      {
       "metadata": {},
       "output_type": "display_data",
       "png": "[encoded data removed]",
       "text": [
        "<matplotlib.figure.Figure at 0x7f19c1b42290>"
       ]
      }
     ],
     "prompt_number": 40
    }
   ],
   "metadata": {}
  }
 ]
}