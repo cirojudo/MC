{
 "metadata": {
  "name": ""
 },
 "nbformat": 3,
 "nbformat_minor": 0,
 "worksheets": [
  {
   "cells": [
    {
     "cell_type": "code",
     "collapsed": false,
     "input": [
      "from scipy.optimize import  root"
     ],
     "language": "python",
     "metadata": {},
     "outputs": [],
     "prompt_number": 1
    },
    {
     "cell_type": "code",
     "collapsed": false,
     "input": [
      "r  = 422000\n",
      "m1 = 1.898E27\n",
      "m2 = 8.931E22"
     ],
     "language": "python",
     "metadata": {},
     "outputs": [],
     "prompt_number": 2
    },
    {
     "cell_type": "code",
     "collapsed": false,
     "input": [
      "def func(x):\n",
      "    return m2/(x**2) + (m1+m2)*(m1*r/(m1+m2) - x)/(r**3) - m1/((r-x)*(r-x))\n",
      "\n",
      "print(root(func,r/3))"
     ],
     "language": "python",
     "metadata": {},
     "outputs": [
      {
       "output_type": "stream",
       "stream": "stdout",
       "text": [
        "  status: 1\n",
        " success: True\n",
        "     qtf: array([-1066.])\n",
        "    nfev: 14\n",
        "       r: array([  2.35150308e+11])\n",
        "     fun: array([-2.])\n",
        "       x: array([ 10474.55011186])\n",
        " message: 'The solution converged.'\n",
        "    fjac: array([[-1.]])\n"
       ]
      }
     ],
     "prompt_number": 7
    },
    {
     "cell_type": "code",
     "collapsed": false,
     "input": [],
     "language": "python",
     "metadata": {},
     "outputs": []
    }
   ],
   "metadata": {}
  }
 ]
}