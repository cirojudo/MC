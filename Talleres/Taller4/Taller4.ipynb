{
 "metadata": {
  "name": ""
 },
 "nbformat": 3,
 "nbformat_minor": 0,
 "worksheets": [
  {
   "cells": [
    {
     "cell_type": "markdown",
     "metadata": {},
     "source": [
      "#Taller 4"
     ]
    },
    {
     "cell_type": "markdown",
     "metadata": {},
     "source": [
      "Punto 1 (2.1.C Libro)"
     ]
    },
    {
     "cell_type": "code",
     "collapsed": false,
     "input": [
      "%pylab inline\n",
      "import numpy as np\n",
      "import matplotlib.pyplot as plt\n",
      "from scipy import interpolate"
     ],
     "language": "python",
     "metadata": {},
     "outputs": [
      {
       "output_type": "stream",
       "stream": "stdout",
       "text": [
        "Populating the interactive namespace from numpy and matplotlib\n"
       ]
      }
     ],
     "prompt_number": 24
    },
    {
     "cell_type": "code",
     "collapsed": false,
     "input": [
      "x = np.array([0, np.pi/2,np.pi, 3*np.pi/2,2*np.pi])\n",
      "y = np.array(np.sin(x))"
     ],
     "language": "python",
     "metadata": {},
     "outputs": [],
     "prompt_number": 25
    },
    {
     "cell_type": "code",
     "collapsed": false,
     "input": [
      "def lagrange(absc,h):\n",
      "    inter = np.poly1d([0,1])\n",
      "    l=len(absc)\n",
      "    for i in range(l):\n",
      "        if i!=h:\n",
      "            inter*= 1/(absc[h]-absc[i])*np.poly1d([1,-absc[i]])\n",
      "    return inter\n",
      "def interpolacionLag(absc, orden):\n",
      "    interpol=np.poly1d([0])\n",
      "    for n in range(len(absc)):\n",
      "        interpol+=orden[n]*lagrange(absc,n)\n",
      "    return interpol"
     ],
     "language": "python",
     "metadata": {},
     "outputs": [],
     "prompt_number": 26
    },
    {
     "cell_type": "code",
     "collapsed": false,
     "input": [
      "ply=interpolacionLag(x,y)\n",
      "figure=plt.figure()\n",
      "lin=np.linspace(-np.pi/2,5*np.pi/2,100)\n",
      "ex=figure.add_subplot(111)\n",
      "ex.plot(x,y,\"r\", label= \"Puntos\")\n",
      "ex.plot(lin,ply(lin), label= \"Interpolaci\u00f3n\")\n",
      "plt.show(figure)"
     ],
     "language": "python",
     "metadata": {},
     "outputs": [
      {
       "metadata": {},
       "output_type": "display_data",
       "png": "[encoded data removed]",
       "text": [
        "<matplotlib.figure.Figure at 0x7fee2a44a610>"
       ]
      }
     ],
     "prompt_number": 32
    },
    {
     "cell_type": "code",
     "collapsed": false,
     "input": [
      "ply=interpolacionLag(x,y)\n",
      "fig=plt.figure()\n",
      "lin=np.linspace(-np.pi/2,5*np.pi/2,100)\n",
      "ex=fig.add_subplot(111)\n",
      "ex.plot(x,y,\"d\")\n",
      "ex.plot(lin,ply(lin))\n",
      "plt.show(fig)"
     ],
     "language": "python",
     "metadata": {},
     "outputs": [
      {
       "metadata": {},
       "output_type": "display_data",
       "png": "[encoded data removed]",
       "text": [
        "<matplotlib.figure.Figure at 0x7fee22058210>"
       ]
      }
     ],
     "prompt_number": 31
    },
    {
     "cell_type": "markdown",
     "metadata": {},
     "source": [
      "Punto 1 (2.1.C Libro)"
     ]
    },
    {
     "cell_type": "code",
     "collapsed": false,
     "input": [
      "x = np.array([-3,-2,-1,0,1,2,3])\n",
      "y = np.array([0,0,0,1,0,0,0])"
     ],
     "language": "python",
     "metadata": {},
     "outputs": [],
     "prompt_number": 36
    },
    {
     "cell_type": "code",
     "collapsed": false,
     "input": [
      "ply=interpolacionLag(x,y)\n",
      "figure=plt.figure()\n",
      "lin=np.linspace(-3,3)\n",
      "ex=figure.add_subplot(111)\n",
      "ex.plot(x,y,\"o\", ms=10,label= \"Puntos\")\n",
      "ex.plot(lin,ply(lin), label= \"Interpolaci\u00f3n\")\n",
      "plt.show(figure)"
     ],
     "language": "python",
     "metadata": {},
     "outputs": [
      {
       "metadata": {},
       "output_type": "display_data",
       "png": "[encoded data removed]",
       "text": [
        "<matplotlib.figure.Figure at 0x7fee21e40110>"
       ]
      }
     ],
     "prompt_number": 41
    },
    {
     "cell_type": "code",
     "collapsed": false,
     "input": [],
     "language": "python",
     "metadata": {},
     "outputs": []
    }
   ],
   "metadata": {}
  }
 ]
}