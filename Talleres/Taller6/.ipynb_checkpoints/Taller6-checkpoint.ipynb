{
 "metadata": {
  "name": ""
 },
 "nbformat": 3,
 "nbformat_minor": 0,
 "worksheets": [
  {
   "cells": [
    {
     "cell_type": "markdown",
     "metadata": {},
     "source": [
      "#Taller 6"
     ]
    },
    {
     "cell_type": "code",
     "collapsed": false,
     "input": [
      "%pylab inline"
     ],
     "language": "python",
     "metadata": {},
     "outputs": [
      {
       "output_type": "stream",
       "stream": "stdout",
       "text": [
        "Populating the interactive namespace from numpy and matplotlib\n"
       ]
      }
     ],
     "prompt_number": 2
    },
    {
     "cell_type": "code",
     "collapsed": false,
     "input": [
      "recorrido=genfromtxt(\"running_dirty_nov.gpx\",delimiter=\",\")\n",
      "lon=recorrido[:,0]\n",
      "lat=recorrido[:,1]\n",
      "alt=recorrido[:,2]\n",
      "hora=recorrido[:,3]\n",
      "mins=recorrido[:,4]\n",
      "seg=recorrido[:,5]"
     ],
     "language": "python",
     "metadata": {},
     "outputs": [],
     "prompt_number": 3
    },
    {
     "cell_type": "code",
     "collapsed": false,
     "input": [
      "R=6371000\n",
      "x = R * cos(lat) * cos(lon)\n",
      "y = R * cos(lat) * sin(lon)\n",
      "z = R *sin(lat)"
     ],
     "language": "python",
     "metadata": {},
     "outputs": [],
     "prompt_number": 5
    },
    {
     "cell_type": "code",
     "collapsed": false,
     "input": [
      "dx= x - x[0]\n",
      "dy= y - y[0]\n",
      "dz= z - z[0]"
     ],
     "language": "python",
     "metadata": {},
     "outputs": [],
     "prompt_number": 6
    },
    {
     "cell_type": "code",
     "collapsed": false,
     "input": [],
     "language": "python",
     "metadata": {},
     "outputs": []
    }
   ],
   "metadata": {}
  }
 ]
}