{
 "metadata": {
  "name": "",
  "signature": "sha256:447507158bae6caf088dba9a6f25b429347cb497c152f01fddf3ca3d86971476"
 },
 "nbformat": 3,
 "nbformat_minor": 0,
 "worksheets": [
  {
   "cells": [
    {
     "cell_type": "markdown",
     "metadata": {},
     "source": [
      "#Taller 9 - Ecuaciones en Derivadas Parciales\n",
      "*M\u00e9todos Computacionales - Laboratorio*\n",
      "\n",
      "14-Jul-2015 & 15-Jul-2015\n",
      "\n",
      "## Ecuaci\u00f3n de Onda con Amortiguamiento 8 \u2735\n",
      "\n",
      "1) \u2735\u2735\u2735 Modifique la soluci\u00f3n de la ecuaci\u00f3n de onda 2D por diferencias finitas para incluir efectos de amortiguamiento. Determine la ecuaci\u00f3n de evoluci\u00f3n modificada y escriba el desarrollo algebraico correspondiente.\n",
      "\n",
      "$$\\frac{\\partial^2 \\psi}{\\partial{x}^2} - 2\\eta \\frac{\\partial\\psi}{\\partial{t}} = \\frac{1}{v^2}\\frac{\\partial^2 \\psi}{\\partial{t}^2}$$\n",
      "    \n",
      "2) \u2735 Programe lo anterior y haga una animaci\u00f3n de lo que le acontece a una deformaci\u00f3n inicial similar a la que hemos utilizado en anteriores ocasiones. Considere una membrana con extremos fijos.\n",
      "\n",
      "3) \u2735\u2735\u2735\u2735 Ahora haga una animaci\u00f3n que simule gotas sobre la superficie de una piscina de agua. Extremos fijos. [Aqu\u00ed](https://github.com/ComputoCienciasUniandes/MetodosComputacionalesLaboratorio/raw/master/2015-V/actividades/talleres/Taller9/pool.mp4) se muestra un ejemplo del resultado esperado donde se usaron los siguientes par\u00e1metros:\n",
      "\n",
      "    # unidades arbitrarias\n",
      "    L=1.\n",
      "    xmin=-L/2\n",
      "    xmax=L/2\n",
      "    ymin=-L/2\n",
      "    ymax=L/2\n",
      "    v=2. # m/s\n",
      "    tmax=10.*L/v # aproximadamente 5 ires y venires\n",
      "    Nl=80\n",
      "    Nt=1500.\n",
      "    dt=tmax/Nt\n",
      "    tau=L/v  # tiempo de relajaci\u00f3n tal que al recorrer medio L ya se haya atenuado significativamente\n",
      "    dx=(xmax-xmin)/Nl\n",
      "    dy=dx\n",
      "    eta=1./v**2/tau\n",
      "    r=v*dt/dx\n",
      "    beta=eta*v**2*dt\n",
      "\n",
      "  **Al terminar la clase del mi\u00e9rcoles ejecute `lottery.sh` para saber si su taller va a ser revisado.**\n"
     ]
    },
    {
     "cell_type": "code",
     "collapsed": false,
     "input": [],
     "language": "python",
     "metadata": {},
     "outputs": []
    }
   ],
   "metadata": {}
  }
 ]
}